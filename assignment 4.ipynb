{
 "cells": [
  {
   "cell_type": "raw",
   "metadata": {},
   "source": [
    "1.1 Write a Python Program(with class concepts) to find the area of the triangle using the below\n",
    "formula.\n",
    "area = (s*(s-a)*(s-b)*(s-c)) ** 0.5\n",
    "Function to take the length of the sides of triangle from user should be defined in the parent\n",
    "class and function to calculate the area should be defined in subclass."
   ]
  },
  {
   "cell_type": "code",
   "execution_count": 32,
   "metadata": {},
   "outputs": [],
   "source": [
    "class Triangle():\n",
    "    def __init__(self, a, b, c):\n",
    "            self.a = a\n",
    "            self.b = b\n",
    "            self.c = c\n",
    "        \n",
    "    \n",
    "class Area(Triangle):\n",
    "    def __init__(self, *args, **kwargs):\n",
    "        super(Area, self).__init__( *args, **kwargs)\n",
    "        \n",
    "    def calc_area(self):\n",
    "        s = (self.a + self.b + self.c) / 2\n",
    "        return (s*(s-self.a)*(s-self.b)*(s-self.c))**0.5    \n",
    "\n",
    "   "
   ]
  },
  {
   "cell_type": "code",
   "execution_count": 33,
   "metadata": {},
   "outputs": [
    {
     "name": "stdout",
     "output_type": "stream",
     "text": [
      "sides: 23 43 56 \n",
      " area 456.7493842360381\n"
     ]
    }
   ],
   "source": [
    "t1 = Area(23,43,56)\n",
    "print('sides:', t1.a, t1.b, t1.c,'\\n', 'area',  t1.calc_area())\n"
   ]
  },
  {
   "cell_type": "code",
   "execution_count": null,
   "metadata": {},
   "outputs": [],
   "source": []
  },
  {
   "cell_type": "raw",
   "metadata": {},
   "source": [
    "1.2 Write a function filter_long_words() that takes a list of words and an integer n and returns\n",
    "the list of words that are longer than n."
   ]
  },
  {
   "cell_type": "code",
   "execution_count": 43,
   "metadata": {},
   "outputs": [],
   "source": [
    "def filter_long_words(wrds, n):\n",
    "    out = []\n",
    "    wrds = wrds.split(' ')\n",
    "    for i in wrds:\n",
    "        if(len(i) > n ):\n",
    "            out.append(i)\n",
    "    \n",
    "    return out\n",
    "            "
   ]
  },
  {
   "cell_type": "code",
   "execution_count": 44,
   "metadata": {},
   "outputs": [
    {
     "data": {
      "text/plain": [
       "['function', 'filter_long_words()', 'integer', 'returns', 'longer']"
      ]
     },
     "execution_count": 44,
     "metadata": {},
     "output_type": "execute_result"
    }
   ],
   "source": [
    "string = 'Write a function filter_long_words() that takes a list of words and an integer n and returns \\\n",
    "the list of words that are longer than n'\n",
    "\n",
    "filter_long_words(string, 5)"
   ]
  },
  {
   "cell_type": "code",
   "execution_count": null,
   "metadata": {},
   "outputs": [],
   "source": []
  },
  {
   "cell_type": "markdown",
   "metadata": {},
   "source": [
    "2.1 Write a Python program using function concept that maps list of words into a list of integers\n",
    "representing the lengths of the corresponding words."
   ]
  },
  {
   "cell_type": "code",
   "execution_count": 48,
   "metadata": {},
   "outputs": [],
   "source": [
    "def fn(string):\n",
    "    return list( map(len , string.split(' ')) )"
   ]
  },
  {
   "cell_type": "code",
   "execution_count": 53,
   "metadata": {},
   "outputs": [
    {
     "name": "stdout",
     "output_type": "stream",
     "text": [
      "[5, 1, 6, 7, 5, 8, 7, 4, 4, 4, 2, 5, 4, 1, 4, 2, 8, 12, 3, 7, 2, 3, 13, 5]\n",
      "[4, 5, 3, 8]\n"
     ]
    }
   ],
   "source": [
    "string = 'Write a Python program using function concept that maps list of words into a list of integers representing the lengths of the corresponding words'\n",
    "print(fn(string))\n",
    "print(fn('aaas fdsdf sdf skjbiuyu'))"
   ]
  },
  {
   "cell_type": "code",
   "execution_count": null,
   "metadata": {},
   "outputs": [],
   "source": []
  },
  {
   "cell_type": "markdown",
   "metadata": {},
   "source": [
    "2.2 Write a Python function which takes a character (i.e. a string of length 1) and returns True if\n",
    "it is a vowel, False otherwise."
   ]
  },
  {
   "cell_type": "code",
   "execution_count": 54,
   "metadata": {},
   "outputs": [],
   "source": [
    "def char(ch):\n",
    "    if ch in list('aeiou'):\n",
    "        return True\n",
    "    else:\n",
    "        return False\n",
    "    "
   ]
  },
  {
   "cell_type": "code",
   "execution_count": 59,
   "metadata": {},
   "outputs": [
    {
     "name": "stdout",
     "output_type": "stream",
     "text": [
      "a:True\n",
      "u:True\n",
      "z:False\n"
     ]
    }
   ],
   "source": [
    "print('a', char('a'), sep = ':')\n",
    "print('u', char('u'), sep = ':')\n",
    "print('z', char('z'), sep = ':')"
   ]
  },
  {
   "cell_type": "code",
   "execution_count": null,
   "metadata": {},
   "outputs": [],
   "source": []
  }
 ],
 "metadata": {
  "kernelspec": {
   "display_name": "Python 3",
   "language": "python",
   "name": "python3"
  },
  "language_info": {
   "codemirror_mode": {
    "name": "ipython",
    "version": 3
   },
   "file_extension": ".py",
   "mimetype": "text/x-python",
   "name": "python",
   "nbconvert_exporter": "python",
   "pygments_lexer": "ipython3",
   "version": "3.7.1"
  }
 },
 "nbformat": 4,
 "nbformat_minor": 4
}
